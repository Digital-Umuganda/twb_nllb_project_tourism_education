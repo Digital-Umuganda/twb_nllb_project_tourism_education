{
 "cells": [
  {
   "cell_type": "code",
   "execution_count": 1,
   "id": "73f6697e-7649-4f6a-8ee3-3833149911ce",
   "metadata": {
    "tags": []
   },
   "outputs": [],
   "source": [
    "import csv\n",
    "import time\n",
    "from selenium import webdriver\n",
    "from selenium.webdriver.support.ui import WebDriverWait\n",
    "from selenium.webdriver.support import expected_conditions as EC\n",
    "import os\n",
    "from selenium.webdriver.firefox.options import Options\n",
    "import pandas as pd\n",
    "from shutil import move"
   ]
  },
  {
   "cell_type": "code",
   "execution_count": 35,
   "id": "66a2e7f1-0e72-4902-9071-fe22efbcb2e4",
   "metadata": {
    "tags": []
   },
   "outputs": [],
   "source": [
    "options = Options()\n",
    "options.set_preference(\"browser.download.folderList\", 2)\n",
    "options.set_preference(\"browser.download.manager.showWhenStarting\", False)\n",
    "options.set_preference(\"browser.download.dir\", \"/home/kk/coursera_scraper/data\")\n",
    "options.set_preference(\"browser.helperApps.neverAsk.saveToDisk\", \"application/x-gzip\")\n",
    "driver = webdriver.Firefox(options=options)"
   ]
  },
  {
   "cell_type": "code",
   "execution_count": 3,
   "id": "723338e0-a5c2-4fd6-a0a1-9675752f5963",
   "metadata": {
    "tags": []
   },
   "outputs": [],
   "source": [
    "login_page_url = \"https://www.coursera.org/learn/entrepreneurship-strategy?authMode=login\""
   ]
  },
  {
   "cell_type": "code",
   "execution_count": 36,
   "id": "9e950c2f-e634-47ac-8702-d41b4cfe4b98",
   "metadata": {
    "tags": []
   },
   "outputs": [],
   "source": [
    "driver.get(login_page_url)\n",
    "time.sleep(2)\n"
   ]
  },
  {
   "cell_type": "code",
   "execution_count": 37,
   "id": "afe3cde6-8780-4a86-bb15-4c8e03627b27",
   "metadata": {
    "tags": []
   },
   "outputs": [],
   "source": [
    "email_field = driver.find_element(\"id\",\"email\")\n",
    "password_field = driver.find_element(\"id\",\"password\")\n",
    "login_button = driver.find_element(\"xpath\",\"//button[@class='_6dgzsvq css-1af0gyj']\")\n",
    "email_field.send_keys(\"<email>\")\n",
    "time.sleep(2)\n",
    "password_field.send_keys(\"<password>\")\n",
    "time.sleep(2)\n",
    "login_button.click()"
   ]
  },
  {
   "cell_type": "code",
   "execution_count": 73,
   "id": "ee77097d-cf20-4379-86f4-766ebb4ba31b",
   "metadata": {
    "tags": []
   },
   "outputs": [],
   "source": [
    "url = \"https://www.coursera.org/search?query=free&page=2&index=prod_all_launched_products_term_optimization&skills=Entrepreneurship&allLanguages=English\""
   ]
  },
  {
   "cell_type": "code",
   "execution_count": null,
   "id": "14ed828c-0ef6-43e4-b9b7-a59659d45618",
   "metadata": {},
   "outputs": [],
   "source": [
    "driver.maximize_window()\n",
    "home_page = url\n",
    "root_dir = \"<path-to-save-scraped-data>\"\n",
    "\n",
    "for i in range(number_of_pages):\n",
    "    \n",
    "    # course_links = [course.get_attribute(\"href\") for course in driver.find_elements(\"xpath\",\"//a[@class='cds-119 cds-113 cds-115 cds-CommonCard-titleLink css-1cymd04 cds-142']\")]\n",
    "    links = driver.find_elements(\"xpath\",\"//a\")\n",
    "    course_links = []\n",
    "    for link in links:\n",
    "\n",
    "        link = link.get_attribute(\"href\")\n",
    "        # print(link)\n",
    "        if link == None:\n",
    "            continue\n",
    "        link_segment = link.split(\"https://www.coursera.org/\")[-1]\n",
    "        if link_segment.split(\"/\")[0] == \"learn\":\n",
    "            course_links.append(link)\n",
    "            # print(link)\n",
    "    if i == 0:\n",
    "        course_links = course_links[6:]\n",
    "    print(\"On page {}, Found {} courses..........\".format(i+1,len(course_links)))\n",
    "    for course_num,course_link in enumerate(course_links):\n",
    "        course_name = course_link.split(\"/\")[-1]\n",
    "        print(\"Scraping for course: {},it's #{}.........\".format(course_name,course_num))\n",
    "        print(\"Course link: \",course_link)\n",
    "        driver.get(course_link)\n",
    "        time.sleep(10)\n",
    "        destination_dir = os.path.join(root_dir,course_name)\n",
    "        if not os.path.exists(destination_dir):\n",
    "            os.makedirs(destination_dir)\n",
    "        \n",
    "        enrol_buttons = driver.find_elements(\"xpath\",\"//span\")\n",
    "        for button in enrol_buttons:\n",
    "            if button.text == \"Enroll for Free\":\n",
    "                button.click()\n",
    "                time.sleep(5)\n",
    "                radio_buttons = driver.find_elements(\"xpath\",\"//i[@class='cif-circle cif-stack-1x']\")\n",
    "                radio_buttons[-1].click()\n",
    "                continue_button  = driver.find_element(\"xpath\",\"//button[@class='primary continue-button cozy']\")\n",
    "                continue_button.click()\n",
    "                time.sleep(10)\n",
    "                driver.refresh()\n",
    "        print(\"Going to the course..............\")   \n",
    "        time.sleep(10)\n",
    "        go_tocourse = driver.find_elements(\"xpath\",\"//span\")\n",
    "        for element in go_tocourse:\n",
    "            if \"Go To Course\" in element.text:\n",
    "                element.click()\n",
    "                time.sleep(10)\n",
    "                break\n",
    "                \n",
    "\n",
    "        weeks = [element.get_attribute(\"href\") for element in driver.find_elements(\"xpath\",\"//a[@data-track-component='nav_week']\")]\n",
    "        for week_num,week in enumerate(weeks):\n",
    "            driver.get(week)\n",
    "            time.sleep(10)\n",
    "            video_navigation_links = [element.get_attribute(\"href\") for element in driver.find_elements(\"xpath\",\"//a[@data-track-component='item_link']\")]\n",
    "            print(\"Found {} video links.........\".format(len(video_navigation_links)))\n",
    "            for video_num,video_link in enumerate(video_navigation_links):\n",
    "                print(\"Video num {} .....\".format(video_num))\n",
    "                driver.get(video_link)\n",
    "                time.sleep(10)\n",
    "                try:\n",
    "                    download_dropdown = driver.find_element(\"id\",\"downloads-dropdown-btn\")\n",
    "                    download_dropdown.click()\n",
    "                    print(\"clicked on the dropdown...........\")\n",
    "                    time.sleep(3)\n",
    "                    download_options = driver.find_elements(\"xpath\",\"//span\")\n",
    "                    for download_option in download_options:\n",
    "                        # print(\"we are here\")\n",
    "                        if \"Transcript (English)\" in download_option.text:\n",
    "                            # print(\"here\")\n",
    "                            download_option.click()\n",
    "                            print(\"Downloaded the video....\")\n",
    "                            break\n",
    "                    time.sleep(2)\n",
    "                    subtitle_file_name = course_name+\"_week_\"+str(week_num)+\"_video_\"+str(video_num)+\".txt\"\n",
    "                    move(root_dir+\"subtitle.txt\",os.path.join(destination_dir,subtitle_file_name))\n",
    "                except Exception as e:\n",
    "                    print(\"Failed ..........\")\n",
    "                    continue\n",
    "    driver.get(home_page)\n",
    "    time.sleep(4)\n",
    "    next_page = driver.find_element(\"xpath\",\"//button[@aria-label='Next Page']\")\n",
    "    next_page.click()\n",
    "    time.sleep(3)\n",
    "    home_page = driver.current_url\n",
    "                                              "
   ]
  }
 ],
 "metadata": {
  "kernelspec": {
   "display_name": "Python 3 (ipykernel)",
   "language": "python",
   "name": "python3"
  },
  "language_info": {
   "codemirror_mode": {
    "name": "ipython",
    "version": 3
   },
   "file_extension": ".py",
   "mimetype": "text/x-python",
   "name": "python",
   "nbconvert_exporter": "python",
   "pygments_lexer": "ipython3",
   "version": "3.11.5"
  }
 },
 "nbformat": 4,
 "nbformat_minor": 5
}
